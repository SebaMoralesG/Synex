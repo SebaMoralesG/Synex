{
 "cells": [
  {
   "cell_type": "markdown",
   "metadata": {},
   "source": [
    "# Read MgC data from .zip files\n",
    "\n",
    "## Instructions:\n",
    "\n",
    "### - Before starting the routine check if the CMg zip-files are placed in required filepath\n",
    "### - Click \"Run\" in the following box to import the libraries needed for the routine\n",
    "### - Check if the file-root is correct (File-root = Filepath)\n",
    "### - Update file_name and zip_file_name, make sure the sentences start and end with (\")\n",
    "### - The output file could be found in the file-root"
   ]
  },
  {
   "cell_type": "code",
   "execution_count": 4,
   "metadata": {},
   "outputs": [
    {
     "name": "stdout",
     "output_type": "stream",
     "text": [
      "File cmg2206_pre.xlsm exported to: MgC_matrix.xlsx.\n"
     ]
    }
   ],
   "source": [
    "\n",
    "##### Main code #####\n",
    "\n",
    "import pandas as pd\n",
    "import os\n",
    "from zipfile import ZipFile\n",
    "\n",
    "#####################################################################################################################################\n",
    "################################################### UPDATE THE FOLLOWING VALUES #####################################################\n",
    "#####################################################################################################################################\n",
    "\n",
    "file_root = \"C:/Users/Seba Morales/OneDrive - Synex Ingenieros Consultores Ltda/Casos2022\"\n",
    "zip_file = \"cmg2206_pre\"\n",
    "export_filename = \"MgC_matrix.xlsx\"\n",
    "\n",
    "#####################################################################################################################################\n",
    "#####################################################################################################################################\n",
    "\n",
    "# Skip the following code \n",
    "\n",
    "file_name = zip_file + \".xlsm\"\n",
    "SheetName = \"CMG Barras\"\n",
    "\n",
    "\n",
    "\n",
    "bus_list = [\"PARINACOTA____220\",\"P.ALMONTE_____220\",\"CONDORES______220\",\"TARAPACA______220\",\"COLLAHUASI____220\",\"LAGUNAS_______220\",\n",
    "            \"CRUCERO_______220\",\"CHUQUICAMATA__220\",\"CHACAYA_______220\",\"ENCUENTRO_____220\",\"ELCOBRE_______220\",\"LABERINTO_____220\",\n",
    "            \"N.ZALDIVAR____220\",\"ESCONDIDA_____220\",\"MEJILLONES____220\",\"ATACAMA_______220\",\"CUMBRES_______500\",\"D.ALMAGRO_____220\",\n",
    "            \"C.PINTO_______220\",\"CARDONES______220\",\"MAITENCILLO___220\",\"P.COLORADA____220\",\"P.AZUCAR______220\",\"L.PALMAS______220\",\n",
    "            \"L.VILOS_______220\",\"NOGALES_______220\",\"QUILLOTA______220\",\"POLPAICO______220\",\"FLORIDA_______110\",\"A.JAHUEL______220\",\n",
    "            \"ITAHUE________154\",\"ANCOA_________220\",\"HUALPEN_______220\",\"CHARRUA_______220\",\"TEMUCO________220\",\"CIRUELOS______220\",\n",
    "            \"RAHUE_________220\", \"P.MONTT_______220\",\"ANCUD_________110\",\"CHILOE________110\"]\n",
    "\n",
    "with ZipFile(os.path.join(file_root, zip_file + \".zip\")) as z:\n",
    "    with z.open(file_name) as file:\n",
    "\n",
    "        df = pd.DataFrame(pd.read_excel(file, header = 0, sheet_name = SheetName))\n",
    "        df = df.pivot(index = [\"Mes\", \"Día\",\"Hora\"], columns = \"Barra\", values = \"CMg[$/KWh]\")\n",
    "        df = df.loc[:,(bus for bus in bus_list if bus in df.columns)]\n",
    "        df = df.reset_index()\n",
    "\n",
    "        for bus in bus_list:\n",
    "            if bus not in df.columns:\n",
    "                df[bus] = 0\n",
    "        df = df.loc[:,bus_list]\n",
    "\n",
    "        with pd.ExcelWriter(os.path.join(file_root, export_filename), engine = 'xlsxwriter') as writer:\n",
    "            df.to_excel(writer, sheet_name = SheetName)\n",
    "            print(f\"File {file_name} exported to: {export_filename}.\")\n"
   ]
  }
 ],
 "metadata": {
  "kernelspec": {
   "display_name": "Python 3.10.5 64-bit",
   "language": "python",
   "name": "python3"
  },
  "language_info": {
   "codemirror_mode": {
    "name": "ipython",
    "version": 3
   },
   "file_extension": ".py",
   "mimetype": "text/x-python",
   "name": "python",
   "nbconvert_exporter": "python",
   "pygments_lexer": "ipython3",
   "version": "3.10.5"
  },
  "orig_nbformat": 4,
  "vscode": {
   "interpreter": {
    "hash": "1727ac22befe2789333036af3419a1c14d59c0267d51c0acc8ce54504488d91e"
   }
  }
 },
 "nbformat": 4,
 "nbformat_minor": 2
}
